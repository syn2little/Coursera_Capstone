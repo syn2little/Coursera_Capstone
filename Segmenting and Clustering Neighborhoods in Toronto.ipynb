{
 "cells": [
  {
   "cell_type": "markdown",
   "metadata": {},
   "source": [
    "Download the List_of_postal_codes_of_Canada to an html file:"
   ]
  },
  {
   "cell_type": "code",
   "execution_count": 3,
   "metadata": {},
   "outputs": [
    {
     "name": "stdout",
     "output_type": "stream",
     "text": [
      "  % Total    % Received % Xferd  Average Speed   Time    Time     Time  Current\n",
      "                                 Dload  Upload   Total   Spent    Left  Speed\n",
      "100 78670  100 78670    0     0  44122      0  0:00:01  0:00:01 --:--:-- 44122\n",
      "Data downloaded!\n"
     ]
    }
   ],
   "source": [
    "!curl https://en.wikipedia.org/wiki/List_of_postal_codes_of_Canada:_M > postal_codes.html\n",
    "print('Data downloaded!')"
   ]
  },
  {
   "cell_type": "markdown",
   "metadata": {},
   "source": [
    "parse the html file using BeautifulSoup:"
   ]
  },
  {
   "cell_type": "code",
   "execution_count": 15,
   "metadata": {},
   "outputs": [
    {
     "name": "stdout",
     "output_type": "stream",
     "text": [
      "<class 'str'>\n"
     ]
    }
   ],
   "source": [
    "from bs4 import BeautifulSoup\n",
    "\n",
    "with open('postal_codes.html') as html_file:\n",
    "    html_data = html_file.read()\n",
    "\n",
    "    soup=BeautifulSoup(html_data,\"lxml\")\n",
    "    #print(soup.prettify())\n",
    "    result = soup.find(\"table\")\n",
    "    "
   ]
  },
  {
   "cell_type": "code",
   "execution_count": 73,
   "metadata": {},
   "outputs": [
    {
     "data": {
      "text/plain": [
       "'<table class=\"wikitable sortable\">\\n<tbody><tr>\\n<th>Postcode</th>\\n<th>Borough</th>\\n<th>Neighbourhood\\n</th></tr>\\n<tr>\\n<td>M1A</td>\\n<td>Not assigned</td>\\n<td>Not assigned\\n</td></tr>\\n<tr>\\n<td>M2A</td>\\n<td>Not assigned</td>\\n<td>Not assigned\\n</td></tr>\\n<tr>\\n<td>M3A</td>\\n<td><a href=\"/wiki/North_York\" title=\"North York\">North York</a></td>\\n<td><a href=\"/wiki/Parkwoods\" title=\"Parkwoods\">Parkwoods</a>\\n</td></tr>\\n<tr>\\n<td>M4A</td>\\n<td><a href=\"/wiki/North_York\" title=\"North York\">North York</a></td>\\n<td><a href=\"/wiki/Victoria_Village\" title=\"Victoria Village\">Victoria Village</a>\\n</td></tr>\\n<tr>\\n<td>M5A</td>\\n<td><a href=\"/wiki/Downtown_Toronto\" title=\"Downtown Toronto\">Downtown Toronto</a></td>\\n<td><a href=\"/wiki/Regent_Park\" title=\"Regent Park\">Harbourfront</a>\\n</td></tr>\\n<tr>\\n<td>M6A</td>\\n<td><a href=\"/wiki/North_York\" title=\"North York\">North York</a></td>\\n<td><a href=\"/wiki/Lawrence_Heights\" title=\"Lawrence Heights\">Lawrence Heights</a>\\n</td></tr>\\n<tr>\\n<td>M6A</td>\\n<td><a href=\"/wiki/North'"
      ]
     },
     "execution_count": 73,
     "metadata": {},
     "output_type": "execute_result"
    }
   ],
   "source": [
    "str(result)[0:1000]"
   ]
  },
  {
   "cell_type": "markdown",
   "metadata": {},
   "source": [
    "Transform the parse result to an object list(with properties: Postcode, Borough & Neighbourhood)"
   ]
  },
  {
   "cell_type": "code",
   "execution_count": 75,
   "metadata": {},
   "outputs": [
    {
     "name": "stdout",
     "output_type": "stream",
     "text": [
      "[{'PostalCode': 'M1A', 'Borough': 'Not assigned', 'Neighbourhood': 'Not assigned\\n'}, {'PostalCode': 'M2A', 'Borough': 'Not assigned', 'Neighbourhood': 'Not assigned\\n'}, {'PostalCode': 'M3A', 'Borough': <a href=\"/wiki/North_York\" title=\"North York\">North York</a>, 'Neighbourhood': <a href=\"/wiki/Parkwoods\" title=\"Parkwoods\">Parkwoods</a>}, {'PostalCode': 'M4A', 'Borough': <a href=\"/wiki/North_York\" title=\"North York\">North York</a>, 'Neighbourhood': <a href=\"/wiki/Victoria_Village\" title=\"Victoria Village\">Victoria Village</a>}, {'PostalCode': 'M5A', 'Borough': <a href=\"/wiki/Downtown_Toronto\" title=\"Downtown Toronto\">Downtown Toronto</a>, 'Neighbourhood': <a href=\"/wiki/Regent_Park\" title=\"Regent Park\">Harbourfront</a>}, {'PostalCode': 'M6A', 'Borough': <a href=\"/wiki/North_York\" title=\"North York\">North York</a>, 'Neighbourhood': <a href=\"/wiki/Lawrence_Heights\" title=\"Lawrence Heights\">Lawrence Heights</a>}, {'PostalCode': 'M6A', 'Borough': <a href=\"/wiki/North_York\" title=\"North York\">North York</a>, 'Neighbourhood': <a href=\"/wiki/Lawrence_Manor\" title=\"Lawrence Manor\">Lawrence Manor</a>}, {'PostalCode': 'M7A', 'Borough': <a href=\"/wiki/Queen%27s_Park_(Toronto)\" title=\"Queen's Park (Toronto)\">Queen's Park</a>, 'Neighbourhood': 'Not assigned\\n'}, {'PostalCode': 'M8A', 'Borough': 'Not assigned', 'Neighbourhood': 'Not assigned\\n'}, {'PostalCode': 'M9A', 'Borough': <a href=\"/wiki/Downtown_Toronto\" title=\"Downtown Toronto\">Downtown Toronto</a>, 'Neighbourhood': <a href=\"/wiki/Queen%27s_Park_(Toronto)\" title=\"Queen's Park (Toronto)\">Queen's Park</a>}]\n"
     ]
    }
   ],
   "source": [
    "data_list = []\n",
    "for idx, tr in enumerate(result.find_all('tr')):\n",
    "    if idx != 0:\n",
    "        tds = tr.find_all('td')\n",
    "        data_list.append({\n",
    "            'PostalCode': tds[0].contents[0],\n",
    "            'Borough': tds[1].contents[0],\n",
    "            'Neighbourhood': tds[2].contents[0],\n",
    "        })\n",
    "print(data_list[0:10])"
   ]
  },
  {
   "cell_type": "markdown",
   "metadata": {},
   "source": [
    "create the data_frame:"
   ]
  },
  {
   "cell_type": "code",
   "execution_count": 65,
   "metadata": {},
   "outputs": [],
   "source": [
    "import pandas as pd\n",
    "data_frame = pd.DataFrame(data_list)"
   ]
  },
  {
   "cell_type": "code",
   "execution_count": 66,
   "metadata": {},
   "outputs": [
    {
     "data": {
      "text/html": [
       "<div>\n",
       "<style scoped>\n",
       "    .dataframe tbody tr th:only-of-type {\n",
       "        vertical-align: middle;\n",
       "    }\n",
       "\n",
       "    .dataframe tbody tr th {\n",
       "        vertical-align: top;\n",
       "    }\n",
       "\n",
       "    .dataframe thead th {\n",
       "        text-align: right;\n",
       "    }\n",
       "</style>\n",
       "<table border=\"1\" class=\"dataframe\">\n",
       "  <thead>\n",
       "    <tr style=\"text-align: right;\">\n",
       "      <th></th>\n",
       "      <th>PostalCode</th>\n",
       "      <th>Borough</th>\n",
       "      <th>Neighbourhood</th>\n",
       "    </tr>\n",
       "  </thead>\n",
       "  <tbody>\n",
       "    <tr>\n",
       "      <td>0</td>\n",
       "      <td>M1A</td>\n",
       "      <td>Not assigned</td>\n",
       "      <td>Not assigned\\n</td>\n",
       "    </tr>\n",
       "    <tr>\n",
       "      <td>1</td>\n",
       "      <td>M2A</td>\n",
       "      <td>Not assigned</td>\n",
       "      <td>Not assigned\\n</td>\n",
       "    </tr>\n",
       "    <tr>\n",
       "      <td>2</td>\n",
       "      <td>M3A</td>\n",
       "      <td>[North York]</td>\n",
       "      <td>[Parkwoods]</td>\n",
       "    </tr>\n",
       "    <tr>\n",
       "      <td>3</td>\n",
       "      <td>M4A</td>\n",
       "      <td>[North York]</td>\n",
       "      <td>[Victoria Village]</td>\n",
       "    </tr>\n",
       "    <tr>\n",
       "      <td>4</td>\n",
       "      <td>M5A</td>\n",
       "      <td>[Downtown Toronto]</td>\n",
       "      <td>[Harbourfront]</td>\n",
       "    </tr>\n",
       "    <tr>\n",
       "      <td>5</td>\n",
       "      <td>M6A</td>\n",
       "      <td>[North York]</td>\n",
       "      <td>[Lawrence Heights]</td>\n",
       "    </tr>\n",
       "    <tr>\n",
       "      <td>6</td>\n",
       "      <td>M6A</td>\n",
       "      <td>[North York]</td>\n",
       "      <td>[Lawrence Manor]</td>\n",
       "    </tr>\n",
       "    <tr>\n",
       "      <td>7</td>\n",
       "      <td>M7A</td>\n",
       "      <td>[Queen's Park]</td>\n",
       "      <td>Not assigned\\n</td>\n",
       "    </tr>\n",
       "    <tr>\n",
       "      <td>8</td>\n",
       "      <td>M8A</td>\n",
       "      <td>Not assigned</td>\n",
       "      <td>Not assigned\\n</td>\n",
       "    </tr>\n",
       "    <tr>\n",
       "      <td>9</td>\n",
       "      <td>M9A</td>\n",
       "      <td>[Downtown Toronto]</td>\n",
       "      <td>[Queen's Park]</td>\n",
       "    </tr>\n",
       "  </tbody>\n",
       "</table>\n",
       "</div>"
      ],
      "text/plain": [
       "  PostalCode             Borough       Neighbourhood\n",
       "0        M1A        Not assigned      Not assigned\\n\n",
       "1        M2A        Not assigned      Not assigned\\n\n",
       "2        M3A        [North York]         [Parkwoods]\n",
       "3        M4A        [North York]  [Victoria Village]\n",
       "4        M5A  [Downtown Toronto]      [Harbourfront]\n",
       "5        M6A        [North York]  [Lawrence Heights]\n",
       "6        M6A        [North York]    [Lawrence Manor]\n",
       "7        M7A      [Queen's Park]      Not assigned\\n\n",
       "8        M8A        Not assigned      Not assigned\\n\n",
       "9        M9A  [Downtown Toronto]      [Queen's Park]"
      ]
     },
     "execution_count": 66,
     "metadata": {},
     "output_type": "execute_result"
    }
   ],
   "source": [
    "data_frame.head(10)"
   ]
  },
  {
   "cell_type": "markdown",
   "metadata": {},
   "source": [
    "Define a function to process the Borough & Neighbourhood data:\n",
    "    1. clear all the '\\n's in the text;\n",
    "    2. extract title from the <a href structrue;\n",
    "    3. return the title."
   ]
  },
  {
   "cell_type": "code",
   "execution_count": 85,
   "metadata": {},
   "outputs": [],
   "source": [
    "def clean_data(x):\n",
    "    result = str(x)\n",
    "    result = result.replace('\\n','')\n",
    "    result = result.replace(',','')\n",
    "    if('Not assigned' in result):\n",
    "        return result\n",
    "    if('href' not in result):\n",
    "        return result\n",
    "    #print(x)\n",
    "    return re.findall('title=\"(.+?)\"', result)[0]"
   ]
  },
  {
   "cell_type": "markdown",
   "metadata": {},
   "source": [
    "Apply the function to 'Borough' and 'Neighbourhood' columns, and drop all rows where borough is Not assigned:"
   ]
  },
  {
   "cell_type": "code",
   "execution_count": 86,
   "metadata": {},
   "outputs": [],
   "source": [
    "data_frame['Neighbourhood'] = data_frame['Neighbourhood'].apply(lambda x:clean_data(x))\n",
    "data_frame['Borough'] = data_frame['Borough'].apply(lambda x:clean_data(x))\n",
    "\n",
    "data_frame = data_frame[data_frame['Borough']!='Not assigned'].reset_index(drop=True)"
   ]
  },
  {
   "cell_type": "markdown",
   "metadata": {},
   "source": [
    "replace Not-assigned Neighbourhood with the value of Borough"
   ]
  },
  {
   "cell_type": "code",
   "execution_count": 76,
   "metadata": {},
   "outputs": [],
   "source": [
    "for index, row in data_frame.iterrows():\n",
    "    if(row['Neighbourhood'] == 'Not assigned'):\n",
    "        row['Neighbourhood'] = row['Borough']"
   ]
  },
  {
   "cell_type": "code",
   "execution_count": 87,
   "metadata": {},
   "outputs": [
    {
     "data": {
      "text/html": [
       "<div>\n",
       "<style scoped>\n",
       "    .dataframe tbody tr th:only-of-type {\n",
       "        vertical-align: middle;\n",
       "    }\n",
       "\n",
       "    .dataframe tbody tr th {\n",
       "        vertical-align: top;\n",
       "    }\n",
       "\n",
       "    .dataframe thead th {\n",
       "        text-align: right;\n",
       "    }\n",
       "</style>\n",
       "<table border=\"1\" class=\"dataframe\">\n",
       "  <thead>\n",
       "    <tr style=\"text-align: right;\">\n",
       "      <th></th>\n",
       "      <th>PostalCode</th>\n",
       "      <th>Borough</th>\n",
       "      <th>Neighbourhood</th>\n",
       "    </tr>\n",
       "  </thead>\n",
       "  <tbody>\n",
       "    <tr>\n",
       "      <td>0</td>\n",
       "      <td>M3A</td>\n",
       "      <td>North York</td>\n",
       "      <td>Parkwoods</td>\n",
       "    </tr>\n",
       "    <tr>\n",
       "      <td>1</td>\n",
       "      <td>M4A</td>\n",
       "      <td>North York</td>\n",
       "      <td>Victoria Village</td>\n",
       "    </tr>\n",
       "    <tr>\n",
       "      <td>2</td>\n",
       "      <td>M5A</td>\n",
       "      <td>Downtown Toronto</td>\n",
       "      <td>Regent Park</td>\n",
       "    </tr>\n",
       "    <tr>\n",
       "      <td>3</td>\n",
       "      <td>M6A</td>\n",
       "      <td>North York</td>\n",
       "      <td>Lawrence Heights</td>\n",
       "    </tr>\n",
       "    <tr>\n",
       "      <td>4</td>\n",
       "      <td>M6A</td>\n",
       "      <td>North York</td>\n",
       "      <td>Lawrence Manor</td>\n",
       "    </tr>\n",
       "    <tr>\n",
       "      <td>5</td>\n",
       "      <td>M7A</td>\n",
       "      <td>Queen's Park (Toronto)</td>\n",
       "      <td>Queen's Park (Toronto)</td>\n",
       "    </tr>\n",
       "    <tr>\n",
       "      <td>6</td>\n",
       "      <td>M9A</td>\n",
       "      <td>Downtown Toronto</td>\n",
       "      <td>Queen's Park (Toronto)</td>\n",
       "    </tr>\n",
       "    <tr>\n",
       "      <td>7</td>\n",
       "      <td>M1B</td>\n",
       "      <td>Scarborough Toronto</td>\n",
       "      <td>Rouge Toronto</td>\n",
       "    </tr>\n",
       "    <tr>\n",
       "      <td>8</td>\n",
       "      <td>M1B</td>\n",
       "      <td>Scarborough Toronto</td>\n",
       "      <td>Malvern Toronto</td>\n",
       "    </tr>\n",
       "    <tr>\n",
       "      <td>9</td>\n",
       "      <td>M3B</td>\n",
       "      <td>North York</td>\n",
       "      <td>Don Mills North</td>\n",
       "    </tr>\n",
       "  </tbody>\n",
       "</table>\n",
       "</div>"
      ],
      "text/plain": [
       "  PostalCode                 Borough           Neighbourhood\n",
       "0        M3A              North York               Parkwoods\n",
       "1        M4A              North York        Victoria Village\n",
       "2        M5A        Downtown Toronto             Regent Park\n",
       "3        M6A              North York        Lawrence Heights\n",
       "4        M6A              North York          Lawrence Manor\n",
       "5        M7A  Queen's Park (Toronto)  Queen's Park (Toronto)\n",
       "6        M9A        Downtown Toronto  Queen's Park (Toronto)\n",
       "7        M1B     Scarborough Toronto           Rouge Toronto\n",
       "8        M1B     Scarborough Toronto         Malvern Toronto\n",
       "9        M3B              North York         Don Mills North"
      ]
     },
     "execution_count": 87,
     "metadata": {},
     "output_type": "execute_result"
    }
   ],
   "source": [
    "data_frame.head(10)"
   ]
  },
  {
   "cell_type": "markdown",
   "metadata": {},
   "source": [
    "Finally we get the postalcode data:"
   ]
  },
  {
   "cell_type": "code",
   "execution_count": 78,
   "metadata": {},
   "outputs": [
    {
     "data": {
      "text/plain": [
       "(210, 3)"
      ]
     },
     "execution_count": 78,
     "metadata": {},
     "output_type": "execute_result"
    }
   ],
   "source": [
    "data_frame.shape"
   ]
  },
  {
   "cell_type": "markdown",
   "metadata": {},
   "source": [
    "Group the data by ['PostalCode','Borough'] and join the Beighbourhood with comma."
   ]
  },
  {
   "cell_type": "code",
   "execution_count": 89,
   "metadata": {},
   "outputs": [],
   "source": [
    "data_frame = data_frame.groupby(['PostalCode','Borough'])['Neighbourhood'].agg(lambda x:','.join(x)).reset_index()"
   ]
  },
  {
   "cell_type": "code",
   "execution_count": 92,
   "metadata": {},
   "outputs": [
    {
     "data": {
      "text/html": [
       "<div>\n",
       "<style scoped>\n",
       "    .dataframe tbody tr th:only-of-type {\n",
       "        vertical-align: middle;\n",
       "    }\n",
       "\n",
       "    .dataframe tbody tr th {\n",
       "        vertical-align: top;\n",
       "    }\n",
       "\n",
       "    .dataframe thead th {\n",
       "        text-align: right;\n",
       "    }\n",
       "</style>\n",
       "<table border=\"1\" class=\"dataframe\">\n",
       "  <thead>\n",
       "    <tr style=\"text-align: right;\">\n",
       "      <th></th>\n",
       "      <th>PostalCode</th>\n",
       "      <th>Borough</th>\n",
       "      <th>Neighbourhood</th>\n",
       "    </tr>\n",
       "  </thead>\n",
       "  <tbody>\n",
       "    <tr>\n",
       "      <td>0</td>\n",
       "      <td>M1B</td>\n",
       "      <td>Scarborough Toronto</td>\n",
       "      <td>Rouge Toronto,Malvern Toronto</td>\n",
       "    </tr>\n",
       "    <tr>\n",
       "      <td>1</td>\n",
       "      <td>M1C</td>\n",
       "      <td>Scarborough Toronto</td>\n",
       "      <td>Highland Creek (Toronto),Rouge Hill,Port Union...</td>\n",
       "    </tr>\n",
       "    <tr>\n",
       "      <td>2</td>\n",
       "      <td>M1E</td>\n",
       "      <td>Scarborough Toronto</td>\n",
       "      <td>Guildwood,Morningside Toronto,West Hill Toronto</td>\n",
       "    </tr>\n",
       "    <tr>\n",
       "      <td>3</td>\n",
       "      <td>M1G</td>\n",
       "      <td>Scarborough Toronto</td>\n",
       "      <td>Woburn Toronto</td>\n",
       "    </tr>\n",
       "    <tr>\n",
       "      <td>4</td>\n",
       "      <td>M1H</td>\n",
       "      <td>Scarborough Toronto</td>\n",
       "      <td>Cedarbrae</td>\n",
       "    </tr>\n",
       "  </tbody>\n",
       "</table>\n",
       "</div>"
      ],
      "text/plain": [
       "  PostalCode              Borough  \\\n",
       "0        M1B  Scarborough Toronto   \n",
       "1        M1C  Scarborough Toronto   \n",
       "2        M1E  Scarborough Toronto   \n",
       "3        M1G  Scarborough Toronto   \n",
       "4        M1H  Scarborough Toronto   \n",
       "\n",
       "                                       Neighbourhood  \n",
       "0                      Rouge Toronto,Malvern Toronto  \n",
       "1  Highland Creek (Toronto),Rouge Hill,Port Union...  \n",
       "2    Guildwood,Morningside Toronto,West Hill Toronto  \n",
       "3                                     Woburn Toronto  \n",
       "4                                          Cedarbrae  "
      ]
     },
     "execution_count": 92,
     "metadata": {},
     "output_type": "execute_result"
    }
   ],
   "source": [
    "data_frame.head()"
   ]
  },
  {
   "cell_type": "code",
   "execution_count": 90,
   "metadata": {},
   "outputs": [
    {
     "data": {
      "text/plain": [
       "(103, 3)"
      ]
     },
     "execution_count": 90,
     "metadata": {},
     "output_type": "execute_result"
    }
   ],
   "source": [
    "data_frame.shape"
   ]
  },
  {
   "cell_type": "code",
   "execution_count": null,
   "metadata": {},
   "outputs": [],
   "source": []
  }
 ],
 "metadata": {
  "kernelspec": {
   "display_name": "Python 3",
   "language": "python",
   "name": "python3"
  },
  "language_info": {
   "codemirror_mode": {
    "name": "ipython",
    "version": 3
   },
   "file_extension": ".py",
   "mimetype": "text/x-python",
   "name": "python",
   "nbconvert_exporter": "python",
   "pygments_lexer": "ipython3",
   "version": "3.7.4"
  }
 },
 "nbformat": 4,
 "nbformat_minor": 2
}
